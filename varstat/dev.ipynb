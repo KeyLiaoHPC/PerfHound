{
 "cells": [
  {
   "cell_type": "code",
   "execution_count": 16,
   "metadata": {},
   "outputs": [],
   "source": [
    "import os\n",
    "import sys\n",
    "import pandas as pd\n",
    "\n",
    "class VtObject:\n",
    "    def __new__(cls, data_root, proj_name):\n",
    "        \"\"\"\n",
    "        Check if project is valid.\n",
    "        \n",
    "        Parameters\n",
    "        ----------\n",
    "        data_root: Root path of vartect data.\n",
    "        proj_name: Project name.\n",
    "        \n",
    "        Returns\n",
    "        -------\n",
    "        Returning VtObject object if path is valid, NoneType if not.\n",
    "        \"\"\"\n",
    "        data_root = os.path.expanduser(data_root)\n",
    "        full_path = os.path.join(data_root, proj_name)\n",
    "        if not os.path.isdir(full_path):\n",
    "            print(\"Project data path doesn't exist!\")\n",
    "            return None\n",
    "        else:\n",
    "            return object.__new__(cls)\n",
    "    \n",
    "    def __init__(self, data_root, proj_name):\n",
    "        \"\"\"\n",
    "        Initialize project name and path.\n",
    "        \n",
    "        Parameters\n",
    "        ----------\n",
    "        data_root: Root path of vartect data.\n",
    "        proj_name: Project name.\n",
    "        \"\"\"\n",
    "\n",
    "        self.nrun = 0\n",
    "        self.nranks = list()\n",
    "        self.rmaps = list()\n",
    "        self.name = proj_name\n",
    "        data_root = os.path.expanduser(data_root)\n",
    "        self.path = os.path.join(data_root, proj_name)\n",
    "        self.opath = os.path.join(self.path, 'varstat_data')\n",
    "\n",
    "    def data_init(self, run_list = [], rank_list = []):\n",
    "        \"\"\"\n",
    "        Convert raw counter number to relative readings.\n",
    "        \n",
    "        Parameters\n",
    "        ----------\n",
    "        rank_list: Only calculate rank in rank_list.\n",
    "        run_list: Only calculate run in run_list.\n",
    "        \"\"\" \n",
    "        # Get number of runs.\n",
    "        nrun = 0\n",
    "        while 1:\n",
    "            rank_fname = 'run' + str(nrun) + '_rankmap.csv'\n",
    "            rank_fpath = os.path.join(self.path, rank_fname)\n",
    "            if not os.path.exists(rank_fpath) :\n",
    "                break\n",
    "            else:\n",
    "                nrun += 1\n",
    "        print(\"Project Name: %s\\nProject Path: %s\\n# of Runs: %d\" % (self.name, self.path, self.nrun))\n",
    "        self.nrun = nrun\n",
    "        if len(run_list) == 0:\n",
    "            run_list = [i for i in range(0, self.nrun)]\n",
    "        \n",
    "        # Backup old VarStat data if exist\n",
    "        if os.path.isdir(self.opath):\n",
    "            i = 1\n",
    "            while 1:\n",
    "                bak_path = os.path.join(self.path, 'varstat_data_bak_' + str(i))\n",
    "                if not os.path.isdir(bak_path):\n",
    "                    os.rename(os.opath, bak_path)\n",
    "        os.mkdir(self.opath, 0o0755)\n",
    "        \n",
    "        # Get # of processes in each run\n",
    "        rank_fpaths = list()\n",
    "        for run in run_list:\n",
    "            print(\"Processing run %d...\" % (run))\n",
    "\n",
    "            # read rank maps\n",
    "            rank_fname = 'run' + str(run) + '_rankmap.csv'\n",
    "            rank_fpath = os.path.join(self.path, rank_fname)\n",
    "            rank_fpaths.append(rank_fpath)\n",
    "            df = pd.read_csv(rank_fpath)\n",
    "            self.rmaps.append(df)\n",
    "            self.nranks.append(len(df.index))                        \n",
    "            if len(rank_list) == 0:\n",
    "                rank_list = [r for r in range(0, self.nranks[run])]\n",
    "            \n",
    "            \n",
    "            for rank in rank_list:\n",
    "                self.abs_to_rel(run, rank)\n",
    "    \n",
    "    def abs_to_rel(self, run, rank):\n",
    "        \"\"\"\n",
    "        Convert raw data file of <rank> in <run> to relative readings.\n",
    "        \"\"\"\n",
    "        cpu = self.rmaps[run].iloc[rank]['cpu']\n",
    "        host = self.rmaps[run].iloc[rank]['hostname']\n",
    "        fname = 'run' + str(run) + '_r' + str(rank) + '_c' + str(cpu) + '_all.csv'\n",
    "        fpath = os.path.join(self.path, host)\n",
    "        fpath = os.path.join(fpath, fname)\n",
    "        df = pd.read_csv(fpath)\n",
    "        # relative_value[x] = raw[x] - raw[0]\n",
    "        df['cycle'] = df['cycle'] - df.iloc[0]['cycle']\n",
    "        df['nanosec'] = df['nanosec'] - df.iloc[0]['nanosec']\n",
    "        # Write to csv\n",
    "        out_csv_path = os.path.join(self.opath, host)\n",
    "        if not os.path.isdir(out_csv_path):\n",
    "            os.mkdir(out_csv_path, 0o755)\n",
    "        out_csv_path = os.path.join(out_csv_path, fname)\n",
    "        df.to_csv(path_or_buf=out_csv_path, index=False)"
   ]
  },
  {
   "cell_type": "code",
   "execution_count": 17,
   "metadata": {},
   "outputs": [],
   "source": [
    "vtobj = VtObject('~/benchmarks/vt_test/data', 'st_mpi')"
   ]
  },
  {
   "cell_type": "code",
   "execution_count": 18,
   "metadata": {},
   "outputs": [
    {
     "name": "stdout",
     "output_type": "stream",
     "text": [
      "Project Name: st_mpi\n",
      "Project Path: /lustre/home/acct-hpc/hpckey/benchmarks/vt_test/data/st_mpi\n",
      "# of Runs: 0\n",
      "Processing run 0...\n"
     ]
    }
   ],
   "source": [
    "vtobj.data_init(run_list=[0])"
   ]
  },
  {
   "cell_type": "code",
   "execution_count": 7,
   "metadata": {},
   "outputs": [
    {
     "data": {
      "text/plain": [
       "[2560]"
      ]
     },
     "execution_count": 7,
     "metadata": {},
     "output_type": "execute_result"
    }
   ],
   "source": [
    "vtobj.nranks"
   ]
  },
  {
   "cell_type": "code",
   "execution_count": null,
   "metadata": {},
   "outputs": [],
   "source": []
  },
  {
   "cell_type": "code",
   "execution_count": null,
   "metadata": {},
   "outputs": [],
   "source": []
  }
 ],
 "metadata": {
  "kernelspec": {
   "display_name": "DataVis",
   "language": "python",
   "name": "test-env"
  },
  "language_info": {
   "codemirror_mode": {
    "name": "ipython",
    "version": 3
   },
   "file_extension": ".py",
   "mimetype": "text/x-python",
   "name": "python",
   "nbconvert_exporter": "python",
   "pygments_lexer": "ipython3",
   "version": "3.8.3"
  }
 },
 "nbformat": 4,
 "nbformat_minor": 4
}
